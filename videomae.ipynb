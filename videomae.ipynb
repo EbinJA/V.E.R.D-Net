{
 "cells": [
  {
   "cell_type": "code",
   "execution_count": 2,
   "id": "f7e8934d",
   "metadata": {},
   "outputs": [
    {
     "name": "stdout",
     "output_type": "stream",
     "text": [
      "Top 1 predicted class: tai chi, Probability: 0.3295\n",
      "Top 2 predicted class: passing American football (not in game), Probability: 0.1145\n",
      "Top 3 predicted class: dancing ballet, Probability: 0.0302\n",
      "Top 4 predicted class: robot dancing, Probability: 0.0202\n",
      "Top 5 predicted class: dunking basketball, Probability: 0.0175\n"
     ]
    }
   ],
   "source": [
    "from transformers import VideoMAEImageProcessor, VideoMAEForVideoClassification\n",
    "import numpy as np\n",
    "import torch\n",
    "import cv2\n",
    "from PIL import Image\n",
    "\n",
    "cap = cv2.VideoCapture('./resultvideo.mp4')\n",
    "frames = []\n",
    "\n",
    "num_frames = 16\n",
    "\n",
    "while len(frames) < num_frames:\n",
    "    ret, frame = cap.read()\n",
    "    if not ret:\n",
    "        break\n",
    "    frame = cv2.resize(frame, (224, 224))\n",
    "    frames.append(frame)\n",
    "\n",
    "video = np.array(frames)\n",
    "\n",
    "video_pil = [] \n",
    "for f in video:\n",
    "    pil_image = Image.fromarray(f)\n",
    "    video_pil.append(pil_image)\n",
    "\n",
    "processor = VideoMAEImageProcessor.from_pretrained(\"MCG-NJU/videomae-base-finetuned-kinetics\")\n",
    "model = VideoMAEForVideoClassification.from_pretrained(\"MCG-NJU/videomae-base-finetuned-kinetics\")\n",
    "\n",
    "\n",
    "if len(video_pil) < num_frames:\n",
    "    padding = [torch.zeros_like(processor(video_pil[0])).unsqueeze(0) for _ in range(num_frames - len(video_pil))]\n",
    "    inputs = processor(video_pil + padding, return_tensors=\"pt\", padding=True, max_length=num_frames)\n",
    "else:\n",
    "    inputs = processor(video_pil[:num_frames], return_tensors=\"pt\")\n",
    "\n",
    "with torch.no_grad():\n",
    "    outputs = model(**inputs)\n",
    "    logits = outputs.logits\n",
    "'''\n",
    "predicted_class_idx = logits.argmax(-1).item()\n",
    "print(\"Predicted class:\", model.config.id2label[predicted_class_idx])'''\n",
    "\n",
    "top_k = 5\n",
    "probs, idx = torch.topk(torch.softmax(logits, dim=-1), k=top_k)\n",
    "probs = probs.squeeze().tolist()\n",
    "idx = idx.squeeze().tolist()\n",
    "\n",
    "\n",
    "\n",
    "\n",
    "for i in range(top_k):\n",
    "    predicted_class = model.config.id2label[idx[i]]\n",
    "    probability = probs[i]\n",
    "    print(f\"Top {i+1} predicted class: {predicted_class}, Probability: {probability:.4f}\")"
   ]
  },
  {
   "cell_type": "code",
   "execution_count": 1,
   "id": "50130671",
   "metadata": {},
   "outputs": [],
   "source": [
    "import torch\n"
   ]
  },
  {
   "cell_type": "code",
   "execution_count": null,
   "id": "147aaa65",
   "metadata": {},
   "outputs": [],
   "source": []
  }
 ],
 "metadata": {
  "kernelspec": {
   "display_name": "tflowenv",
   "language": "python",
   "name": "tflow"
  },
  "language_info": {
   "codemirror_mode": {
    "name": "ipython",
    "version": 3
   },
   "file_extension": ".py",
   "mimetype": "text/x-python",
   "name": "python",
   "nbconvert_exporter": "python",
   "pygments_lexer": "ipython3",
   "version": "3.10.14"
  }
 },
 "nbformat": 4,
 "nbformat_minor": 5
}
